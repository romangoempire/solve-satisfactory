{
 "cells": [
  {
   "cell_type": "markdown",
   "metadata": {},
   "source": [
    "# Data Cleaning"
   ]
  },
  {
   "cell_type": "code",
   "execution_count": 2,
   "metadata": {},
   "outputs": [],
   "source": [
    "import json\n",
    "from pathlib import Path"
   ]
  },
  {
   "cell_type": "code",
   "execution_count": 3,
   "metadata": {},
   "outputs": [],
   "source": [
    "SECONDS = 60\n",
    "\n",
    "DATA_PATH = Path(\"../data\")\n",
    "ORIGINAL_DATA = DATA_PATH.joinpath(\"original_data.json\")\n",
    "\n",
    "ITEMS_FILE = DATA_PATH.joinpath(\"items.json\")\n",
    "BUILDINGS_FILE = DATA_PATH.joinpath(\"building.json\")\n",
    "RECIPES_FILE = DATA_PATH.joinpath(\"recipes.json\")\n",
    "GENERATORS_FILE = DATA_PATH.joinpath(\"generators.json\")\n",
    "RESOURCES_FILE = DATA_PATH.joinpath(\"resources.json\")\n",
    "\n",
    "IGNORE_ITEMS = [\n",
    "    \"alien-dna-capsule\",\n",
    "    \"alien-protein\",\n",
    "    \"bacon-agaric\",\n",
    "    \"beryl-nut\",\n",
    "    \"biomass\",\n",
    "    \"blade-runners\",\n",
    "    \"blue-power-slug\",\n",
    "    \"chainsaw\",\n",
    "    \"factory-carttm\",\n",
    "    \"ficsit-coupon\",\n",
    "    \"gas-mask\",\n",
    "    \"golden-factory-carttm\",\n",
    "    \"hatcher-remains\",\n",
    "    \"hazmat-suit\",\n",
    "    \"hog-remains\",\n",
    "    \"hoverpack\",\n",
    "    \"jetpack\",\n",
    "    \"leaves\",\n",
    "    \"liquid-biofuel\",\n",
    "    \"medicinal-inhaler\",\n",
    "    \"mercer-sphere\",\n",
    "    \"mycelia\",\n",
    "    \"nobelisk-detonator\",\n",
    "    \"object-scanner\",\n",
    "    \"packaged-liquid-biofuel\",\n",
    "    \"paleberry\",\n",
    "    \"parachute\",\n",
    "    \"purple-power-slug\",\n",
    "    \"rebar-gun\",\n",
    "    \"rifle\",\n",
    "    \"solid-biofuel\",\n",
    "    \"somersloop\",\n",
    "    \"spitter-remains\",\n",
    "    \"stinger-remains\",\n",
    "    \"wood\",\n",
    "    \"xeno-basher\",\n",
    "    \"xeno-zapper\",\n",
    "    \"yellow-power-slug\",\n",
    "    \"zipline\",\n",
    "]"
   ]
  },
  {
   "cell_type": "code",
   "execution_count": 4,
   "metadata": {},
   "outputs": [],
   "source": [
    "with open(ORIGINAL_DATA) as f:\n",
    "    data = json.load(f)"
   ]
  },
  {
   "cell_type": "code",
   "execution_count": 5,
   "metadata": {},
   "outputs": [
    {
     "data": {
      "text/plain": [
       "dict_keys(['items', 'recipes', 'schematics', 'generators', 'resources', 'miners', 'buildings'])"
      ]
     },
     "execution_count": 5,
     "metadata": {},
     "output_type": "execute_result"
    }
   ],
   "source": [
    "data.keys()"
   ]
  },
  {
   "cell_type": "markdown",
   "metadata": {},
   "source": [
    "## Items"
   ]
  },
  {
   "cell_type": "code",
   "execution_count": 6,
   "metadata": {},
   "outputs": [
    {
     "data": {
      "text/plain": [
       "dict_keys(['slug', 'icon', 'name', 'description', 'sinkPoints', 'className', 'stackSize', 'energyValue', 'radioactiveDecay', 'liquid', 'fluidColor'])"
      ]
     },
     "execution_count": 6,
     "metadata": {},
     "output_type": "execute_result"
    }
   ],
   "source": [
    "data[\"items\"][\"Desc_NuclearWaste_C\"].keys()"
   ]
  },
  {
   "cell_type": "code",
   "execution_count": 7,
   "metadata": {},
   "outputs": [],
   "source": [
    "all_items = [i for _, i in data[\"items\"].items()]\n",
    "items = [i for i in all_items if i[\"slug\"] not in IGNORE_ITEMS]\n",
    "items.sort(key=lambda item: item[\"slug\"])"
   ]
  },
  {
   "cell_type": "code",
   "execution_count": 8,
   "metadata": {},
   "outputs": [],
   "source": [
    "for item in items:\n",
    "    del item[\"icon\"]\n",
    "    del item[\"description\"]\n",
    "    del item[\"stackSize\"]\n",
    "    del item[\"radioactiveDecay\"]\n",
    "    del item[\"fluidColor\"]\n"
   ]
  },
  {
   "cell_type": "code",
   "execution_count": 9,
   "metadata": {},
   "outputs": [],
   "source": [
    "item_slug_by_className = {i[\"className\"]: i[\"slug\"] for i in items}"
   ]
  },
  {
   "cell_type": "markdown",
   "metadata": {},
   "source": [
    "## Buildings"
   ]
  },
  {
   "cell_type": "code",
   "execution_count": 10,
   "metadata": {},
   "outputs": [],
   "source": [
    "machines = [\n",
    "    \"Desc_AssemblerMk1_C\",\n",
    "    \"Desc_Blender_C\",\n",
    "    \"Desc_ConstructorMk1_C\",\n",
    "    \"Desc_Converter_C\",\n",
    "    \"Desc_FoundryMk1_C\",\n",
    "    \"Desc_HadronCollider_C\",\n",
    "    \"Desc_ManufacturerMk1_C\",\n",
    "    \"Desc_OilRefinery_C\",\n",
    "    \"Desc_Packager_C\",\n",
    "    \"Desc_QuantumEncoder_C\",\n",
    "    \"Desc_SmelterMk1_C\",\n",
    "]\n",
    "buildings = [b for _, b in data[\"buildings\"].items() if b[\"className\"] in machines]\n",
    "\n",
    "for building in buildings:\n",
    "    building[\"powerConsumption\"] = building[\"metadata\"][\"powerConsumption\"]\n",
    "    del building[\"icon\"]\n",
    "    del building[\"description\"]\n",
    "    del building[\"categories\"]\n",
    "    del building[\"buildMenuPriority\"]\n",
    "    del building[\"metadata\"]\n",
    "    del building[\"size\"]"
   ]
  },
  {
   "cell_type": "code",
   "execution_count": 11,
   "metadata": {},
   "outputs": [],
   "source": [
    "building_slug_by_className = {b[\"className\"]: b[\"slug\"] for b in buildings}"
   ]
  },
  {
   "cell_type": "markdown",
   "metadata": {},
   "source": [
    "## Recipes"
   ]
  },
  {
   "cell_type": "code",
   "execution_count": 12,
   "metadata": {},
   "outputs": [],
   "source": [
    "recipes = [r for _, r in data[\"recipes\"].items()]\n",
    "recipes = [r for r in recipes if r[\"inMachine\"]]\n",
    "\n",
    "excluded_slugs = [\n",
    "    \"biofuel\",\n",
    "    \"alternate-coal\",\n",
    "    \"protein\",\n",
    "    \"biomass\",\n",
    "    \"powercrystalshard\",\n",
    "    \"aliendnacapsule\",\n",
    "    \"nobeliskgas\",\n",
    "    \"recipe-fabric-c\",\n",
    "]\n",
    "recipes = [\n",
    "    r for r in recipes if not any(excluded in r[\"slug\"] for excluded in excluded_slugs)\n",
    "]\n",
    "\n",
    "\n",
    "for recipe in recipes:\n",
    "    recipe[\"slug\"] = recipe[\"slug\"].rstrip(\"-c\")\n",
    "\n",
    "    del recipe[\"inHand\"]\n",
    "    del recipe[\"forBuilding\"]\n",
    "    del recipe[\"inWorkshop\"]\n",
    "    del recipe[\"inMachine\"]\n",
    "    del recipe[\"manualTimeMultiplier\"]\n",
    "\n",
    "    for ingredient in recipe[\"ingredients\"]:\n",
    "        ingredient_className = ingredient[\"item\"]\n",
    "        ingredient[\"item\"] = item_slug_by_className.get(ingredient_className)\n",
    "        ingredient[\"amount_per_minute\"] = (\n",
    "            ingredient[\"amount\"] * SECONDS / recipe[\"time\"]\n",
    "        )\n",
    "\n",
    "    for product in recipe[\"products\"]:\n",
    "        product_className = product[\"item\"]\n",
    "        product[\"item\"] = item_slug_by_className.get(product_className)\n",
    "        product[\"amount_per_minute\"] = product[\"amount\"] * SECONDS / recipe[\"time\"]\n",
    "\n",
    "    recipe[\"producedIn\"] = building_slug_by_className.get(recipe[\"producedIn\"][0])\n",
    "\n",
    "    del recipe[\"className\"]\n"
   ]
  },
  {
   "cell_type": "code",
   "execution_count": 13,
   "metadata": {},
   "outputs": [
    {
     "data": {
      "text/plain": [
       "{'slug': 'recipe-ironplate',\n",
       " 'name': 'Iron Plate',\n",
       " 'alternate': False,\n",
       " 'time': 6.0,\n",
       " 'ingredients': [{'item': 'iron-ingot',\n",
       "   'amount': 3.0,\n",
       "   'amount_per_minute': 30.0}],\n",
       " 'products': [{'item': 'iron-plate',\n",
       "   'amount': 2.0,\n",
       "   'amount_per_minute': 20.0}],\n",
       " 'producedIn': 'constructor',\n",
       " 'isVariablePower': False,\n",
       " 'minPower': 0,\n",
       " 'maxPower': 1}"
      ]
     },
     "execution_count": 13,
     "metadata": {},
     "output_type": "execute_result"
    }
   ],
   "source": [
    "recipes[0]"
   ]
  },
  {
   "cell_type": "markdown",
   "metadata": {},
   "source": [
    "## Generators"
   ]
  },
  {
   "cell_type": "code",
   "execution_count": 353,
   "metadata": {},
   "outputs": [],
   "source": [
    "generators = [g for _, g in data[\"generators\"].items()][:-1]"
   ]
  },
  {
   "cell_type": "code",
   "execution_count": 354,
   "metadata": {},
   "outputs": [],
   "source": [
    "def slugify_generator_name(classname: str) -> str:\n",
    "    classname = classname.lstrip(\"Desc_\")\n",
    "    classname = classname.rstrip(\"_C\")\n",
    "    new_classname = \"\"\n",
    "    for c in classname:\n",
    "        if c.isupper():\n",
    "            new_classname += \"-\" + c.lower()\n",
    "        else:\n",
    "            new_classname += c\n",
    "\n",
    "    return new_classname[1:]"
   ]
  },
  {
   "cell_type": "code",
   "execution_count": 355,
   "metadata": {},
   "outputs": [
    {
     "data": {
      "text/plain": [
       "[{'fuel': ['coal', 'compacted-coal', 'petroleum-coke'],\n",
       "  'powerProduction': 75,\n",
       "  'powerProductionExponent': 1.6,\n",
       "  'waterToPowerRatio': 10.0,\n",
       "  'slug': 'generator-coal'},\n",
       " {'fuel': ['uranium-fuel-rod', 'plutonium-fuel-rod', 'ficsonium-fuel-rod'],\n",
       "  'powerProduction': 2500,\n",
       "  'powerProductionExponent': 1.6,\n",
       "  'waterToPowerRatio': 1.6,\n",
       "  'slug': 'generator-nuclear'},\n",
       " {'fuel': ['fuel', 'turbofuel', 'rocket-fuel', 'ionized-fuel'],\n",
       "  'powerProduction': 250,\n",
       "  'powerProductionExponent': 1.6,\n",
       "  'waterToPowerRatio': 0.0,\n",
       "  'slug': 'generator-fuel'}]"
      ]
     },
     "execution_count": 355,
     "metadata": {},
     "output_type": "execute_result"
    }
   ],
   "source": [
    "for generator in generators:\n",
    "    generator[\"slug\"] = slugify_generator_name(generator[\"className\"])\n",
    "    del generator[\"className\"]\n",
    "    generator[\"fuel\"] = [\n",
    "        item_slug_by_className.get(fuel)\n",
    "        for fuel in generator[\"fuel\"]\n",
    "        if item_slug_by_className.get(fuel) is not None\n",
    "    ]\n",
    "\n",
    "generators"
   ]
  },
  {
   "cell_type": "markdown",
   "metadata": {},
   "source": [
    "## Resources"
   ]
  },
  {
   "cell_type": "code",
   "execution_count": 366,
   "metadata": {},
   "outputs": [],
   "source": [
    "resources = [\n",
    "    {\"slug\": \"bauxite\", \"name\": \"Bauxite\", \"amount\": 12300},\n",
    "    {\"slug\": \"caterium-ore\", \"name\": \"Caterium Ore\", \"amount\": 15000},\n",
    "    {\"slug\": \"coal\", \"name\": \"Coal\", \"amount\": 42300},\n",
    "    {\"slug\": \"copper\", \"name\": \"Copper\", \"amount\": 36900},\n",
    "    {\"slug\": \"crude-oil\", \"name\": \"Crude Oil\", \"amount\": 12600},\n",
    "    {\"slug\": \"iron-ore\", \"name\": \"Iron Ore\", \"amount\": 92100},\n",
    "    {\"slug\": \"limestone\", \"name\": \"Limestone\", \"amount\": 69900},\n",
    "    {\"slug\": \"nitrogen-gas\", \"name\": \"Nitrogen Gas\", \"amount\": 12000},\n",
    "    {\"slug\": \"raw-quartz\", \"name\": \"Raw Quartz\", \"amount\": 13500},\n",
    "    {\"slug\": \"sulfur\", \"name\": \"Sulfur\", \"amount\": 10800},\n",
    "    {\"slug\": \"uranium\", \"name\": \"Uranium\", \"amount\": 2100},\n",
    "    {\"slug\": \"sam\", \"name\": \"SAM\", \"amount\": 10200},\n",
    "]\n",
    "\n",
    "total = sum([r[\"amount\"] for r in resources])\n",
    "\n",
    "\n",
    "for resource in resources:\n",
    "    resource[\"percentage_of_total\"] = resource[\"amount\"] / total\n",
    "    resource[\"rarity\"] = total / resource[\"amount\"]"
   ]
  },
  {
   "cell_type": "markdown",
   "metadata": {},
   "source": [
    "## Final Cleanup"
   ]
  },
  {
   "cell_type": "code",
   "execution_count": 358,
   "metadata": {},
   "outputs": [],
   "source": [
    "for item in items:\n",
    "    del item[\"className\"]"
   ]
  },
  {
   "cell_type": "markdown",
   "metadata": {},
   "source": [
    "## Save to file"
   ]
  },
  {
   "cell_type": "code",
   "execution_count": 359,
   "metadata": {},
   "outputs": [],
   "source": [
    "with open(ITEMS_FILE, \"w\") as f:\n",
    "    json.dump(items, f, indent=4)"
   ]
  },
  {
   "cell_type": "code",
   "execution_count": 360,
   "metadata": {},
   "outputs": [],
   "source": [
    "with open(BUILDINGS_FILE, \"w\") as f:\n",
    "    json.dump(buildings, f, indent=4)"
   ]
  },
  {
   "cell_type": "code",
   "execution_count": 14,
   "metadata": {},
   "outputs": [],
   "source": [
    "with open(RECIPES_FILE, \"w\") as f:\n",
    "    json.dump(recipes, f, indent=4)"
   ]
  },
  {
   "cell_type": "code",
   "execution_count": 362,
   "metadata": {},
   "outputs": [],
   "source": [
    "with open(GENERATORS_FILE, \"w\") as f:\n",
    "    json.dump(generators, f, indent=4)"
   ]
  },
  {
   "cell_type": "code",
   "execution_count": 367,
   "metadata": {},
   "outputs": [],
   "source": [
    "with open(RESOURCES_FILE, \"w\") as f:\n",
    "    json.dump(resources, f, indent=4)"
   ]
  }
 ],
 "metadata": {
  "kernelspec": {
   "display_name": "venv",
   "language": "python",
   "name": "python3"
  },
  "language_info": {
   "codemirror_mode": {
    "name": "ipython",
    "version": 3
   },
   "file_extension": ".py",
   "mimetype": "text/x-python",
   "name": "python",
   "nbconvert_exporter": "python",
   "pygments_lexer": "ipython3",
   "version": "3.13.2"
  }
 },
 "nbformat": 4,
 "nbformat_minor": 2
}
