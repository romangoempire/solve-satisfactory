{
 "cells": [
  {
   "cell_type": "markdown",
   "metadata": {},
   "source": [
    "# Comparison Recipes"
   ]
  },
  {
   "cell_type": "code",
   "execution_count": 187,
   "metadata": {},
   "outputs": [],
   "source": [
    "import json\n",
    "from icecream import ic"
   ]
  },
  {
   "cell_type": "code",
   "execution_count": 188,
   "metadata": {},
   "outputs": [],
   "source": [
    "with open(\"../data/items.json\") as f:\n",
    "    items = json.load(f)\n",
    "\n",
    "with open(\"../data/recipes.json\") as f:\n",
    "    recipes = json.load(f)\n",
    "\n",
    "with open(\"../data/resources.json\") as f:\n",
    "    resources = json.load(f)"
   ]
  },
  {
   "cell_type": "code",
   "execution_count": 189,
   "metadata": {},
   "outputs": [],
   "source": [
    "def find_recipes_with_product(item: str) -> dict:\n",
    "    return {\n",
    "        slug: recipe\n",
    "        for slug, recipe in recipes.items()\n",
    "        if any(products[\"item\"] == item for products in recipe[\"products\"])\n",
    "    }"
   ]
  },
  {
   "cell_type": "code",
   "execution_count": 190,
   "metadata": {},
   "outputs": [],
   "source": [
    "def find_recipes_for_product_with_no_byproducts(item: str) -> list:\n",
    "    return {\n",
    "        slug: recipe\n",
    "        for slug, recipe in recipes.items()\n",
    "        if len(recipe[\"products\"]) == 1 and recipe[\"products\"][0][\"item\"] == item\n",
    "    }"
   ]
  },
  {
   "cell_type": "code",
   "execution_count": 191,
   "metadata": {},
   "outputs": [],
   "source": [
    "def evaluate_recipes(item: str) -> list[tuple[int, str]]:\n",
    "    recipe_for_item = find_recipes_for_product_with_no_byproducts(item)\n",
    "\n",
    "    recipe_evalution = []\n",
    "    for key, recipe in recipe_for_item.items():\n",
    "        total_cost = 0\n",
    "        product_amount = recipe[\"products\"][0][\"amount\"]\n",
    "        for ingredient in recipe[\"ingredients\"]:\n",
    "            item_name = ingredient[\"item\"]\n",
    "            if cost_list.get(item_name) is None:\n",
    "                ic(item_name)\n",
    "                raise NotImplementedError()\n",
    "            total_cost += round(\n",
    "                ingredient[\"amount\"] * cost_list[item_name][1] / product_amount, 4\n",
    "            )\n",
    "        recipe_evalution.append([key, total_cost])\n",
    "    recipe_evalution.sort(key=lambda x: x[1])\n",
    "    return recipe_evalution\n"
   ]
  },
  {
   "cell_type": "code",
   "execution_count": 192,
   "metadata": {},
   "outputs": [],
   "source": [
    "def evaluate_recipes_for_ore(ore: str) -> list[tuple[int, str]]:\n",
    "    ore_recipes = evaluate_recipes(ore)\n",
    "    ore_recipes.append([\"extractor\", resources[ore][\"rarity\"]])\n",
    "    ore_recipes.sort(key=lambda x: x[1])\n",
    "    return ore_recipes"
   ]
  },
  {
   "cell_type": "code",
   "execution_count": 193,
   "metadata": {},
   "outputs": [],
   "source": [
    "cost_list = {\n",
    "    key: [\"extractor\", resource[\"rarity\"]] for key, resource in resources.items()\n",
    "}"
   ]
  },
  {
   "cell_type": "code",
   "execution_count": 194,
   "metadata": {},
   "outputs": [],
   "source": [
    "cost_list[\"sulfuric-acid\"] = [\"sulfuric_acid\", resources[\"sulfur\"][\"rarity\"]]\n",
    "# ? sam to reanimated sam is 4:1\n",
    "cost_list[\"reanimated-sam\"] = [\"reanimated-sam\", resources[\"sam\"][\"rarity\"] * 4]"
   ]
  },
  {
   "cell_type": "code",
   "execution_count": 195,
   "metadata": {},
   "outputs": [
    {
     "data": {
      "text/plain": [
       "[['recipe-alternate-pureironingot', 0.5385],\n",
       " ['recipe-alternate-ingotiron', 0.8666],\n",
       " ['recipe-ingotiron', 1.0],\n",
       " ['recipe-alternate-ironingot-leached', 1.353],\n",
       " ['recipe-alternate-ironingot-basic', 1.556]]"
      ]
     },
     "execution_count": 195,
     "metadata": {},
     "output_type": "execute_result"
    }
   ],
   "source": [
    "iron_ingot = \"iron-ingot\"\n",
    "iron_ingot_recipes = evaluate_recipes(\"iron-ingot\")\n",
    "cost_list[iron_ingot] = iron_ingot_recipes[0]\n",
    "iron_ingot_recipes"
   ]
  },
  {
   "cell_type": "code",
   "execution_count": 196,
   "metadata": {},
   "outputs": [],
   "source": [
    "ore = \"copper-ore\"\n",
    "ore_recipes = evaluate_recipes_for_ore(ore)\n",
    "cost_list[ore] = ore_recipes[0]"
   ]
  },
  {
   "cell_type": "code",
   "execution_count": 197,
   "metadata": {},
   "outputs": [],
   "source": [
    "ore = \"bauxite\"\n",
    "ore_recipes = evaluate_recipes_for_ore(ore)\n",
    "cost_list[ore] = ore_recipes[0]"
   ]
  },
  {
   "cell_type": "code",
   "execution_count": 198,
   "metadata": {},
   "outputs": [],
   "source": [
    "ore = \"caterium-ore\"\n",
    "ore_recipes = evaluate_recipes_for_ore(ore)\n",
    "cost_list[ore] = ore_recipes[0]"
   ]
  },
  {
   "cell_type": "code",
   "execution_count": 201,
   "metadata": {},
   "outputs": [
    {
     "name": "stderr",
     "output_type": "stream",
     "text": [
      "ic| ore_recipes: [['extractor', 6.82],\n",
      "                  ['recipe-quartz-coal', 7.37],\n",
      "                  ['recipe-quartz-bauxite', 8.6433]]\n"
     ]
    }
   ],
   "source": [
    "ore = \"raw-quartz\"\n",
    "ore_recipes = evaluate_recipes_for_ore(ore)\n",
    "ic(ore_recipes)\n",
    "cost_list[ore] = ore_recipes[0]"
   ]
  },
  {
   "cell_type": "code",
   "execution_count": 202,
   "metadata": {},
   "outputs": [
    {
     "name": "stderr",
     "output_type": "stream",
     "text": [
      "ic| ore_recipes: [['extractor', 2.18],\n",
      "                  ['recipe-coal-iron', 4.51],\n",
      "                  ['recipe-coal-limestone', 6.97]]\n"
     ]
    }
   ],
   "source": [
    "ore = \"coal\"\n",
    "ore_recipes = evaluate_recipes_for_ore(ore)\n",
    "ic(ore_recipes)\n",
    "cost_list[ore] = ore_recipes[0]"
   ]
  },
  {
   "cell_type": "code",
   "execution_count": 200,
   "metadata": {},
   "outputs": [
    {
     "data": {
      "text/plain": [
       "{'bauxite': ['recipe-bauxite-copper', 6.76],\n",
       " 'caterium-ore': ['recipe-caterium-copper', 6.135],\n",
       " 'coal': ['extractor', 2.18],\n",
       " 'copper-ore': ['extractor', 2.5],\n",
       " 'crude-oil': ['extractor', 7.31],\n",
       " 'iron-ore': ['extractor', 1.0],\n",
       " 'limestone': ['extractor', 1.32],\n",
       " 'nitrogen-gas': ['extractor', 7.68],\n",
       " 'raw-quartz': ['extractor', 6.82],\n",
       " 'sulfur': ['extractor', 8.53],\n",
       " 'uranium': ['extractor', 43.86],\n",
       " 'sam': ['extractor', 9.03],\n",
       " 'water': ['extractor', 0],\n",
       " 'sulfuric-acid': ['sulfuric_acid', 8.53],\n",
       " 'reanimated-sam': ['reanimated-sam', 36.12],\n",
       " 'iron-ingot': ['recipe-alternate-pureironingot', 0.5385]}"
      ]
     },
     "execution_count": 200,
     "metadata": {},
     "output_type": "execute_result"
    }
   ],
   "source": [
    "cost_list"
   ]
  },
  {
   "cell_type": "code",
   "execution_count": null,
   "metadata": {},
   "outputs": [],
   "source": []
  }
 ],
 "metadata": {
  "kernelspec": {
   "display_name": "venv",
   "language": "python",
   "name": "python3"
  },
  "language_info": {
   "codemirror_mode": {
    "name": "ipython",
    "version": 3
   },
   "file_extension": ".py",
   "mimetype": "text/x-python",
   "name": "python",
   "nbconvert_exporter": "python",
   "pygments_lexer": "ipython3",
   "version": "3.13.2"
  }
 },
 "nbformat": 4,
 "nbformat_minor": 2
}
