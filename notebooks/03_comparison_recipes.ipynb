{
 "cells": [
  {
   "cell_type": "markdown",
   "metadata": {},
   "source": [
    "# Comparison Recipes"
   ]
  },
  {
   "cell_type": "code",
   "execution_count": 40,
   "metadata": {},
   "outputs": [],
   "source": [
    "import json\n",
    "from icecream import ic"
   ]
  },
  {
   "cell_type": "code",
   "execution_count": 41,
   "metadata": {},
   "outputs": [],
   "source": [
    "with open(\"../data/items.json\") as f:\n",
    "    items = json.load(f)\n",
    "\n",
    "with open(\"../data/recipes.json\") as f:\n",
    "    recipes = json.load(f)\n",
    "\n",
    "with open(\"../data/resources.json\") as f:\n",
    "    resources = json.load(f)"
   ]
  },
  {
   "cell_type": "code",
   "execution_count": 42,
   "metadata": {},
   "outputs": [],
   "source": [
    "def find_recipes_with_product(item: str) -> dict:\n",
    "    return {\n",
    "        slug: recipe\n",
    "        for slug, recipe in recipes.items()\n",
    "        if any(products[\"item\"] == item for products in recipe[\"products\"])\n",
    "    }"
   ]
  },
  {
   "cell_type": "code",
   "execution_count": 43,
   "metadata": {},
   "outputs": [
    {
     "name": "stderr",
     "output_type": "stream",
     "text": [
      "ic| slug: 'recipe-unpackagewater'\n",
      "ic| item_name: 'packaged-water'\n",
      "ic| slug: 'recipe-packagedwater'\n",
      "ic| item_name: 'water'\n",
      "ic| item_name: 'empty-canister'\n",
      "ic| slug: 'recipe-unpackageturbofuel'\n",
      "ic| item_name: 'packaged-turbofuel'\n",
      "ic| slug: 'recipe-packagedturbofuel'\n",
      "ic| item_name: 'turbofuel'\n",
      "ic| slug: 'recipe-alternate-turbofuel'\n",
      "ic| item_name: 'fuel'\n",
      "ic| slug: 'recipe-liquidfuel'\n",
      "ic| item_name: 'crude-oil'\n"
     ]
    }
   ],
   "source": [
    "def find_cycle(item: str, visisted_recipes=[]):\n",
    "    selected_recipes = find_recipes_with_product(item)\n",
    "\n",
    "    for slug, recipe in selected_recipes.items():\n",
    "        ic(slug)\n",
    "        if slug in visisted_recipes:\n",
    "            ic(\"cycle found\", visisted_recipes)\n",
    "            ic(recipes[visisted_recipes[0]])\n",
    "            return visisted_recipes\n",
    "\n",
    "        visisted_recipes.append(slug)\n",
    "\n",
    "        for ingredient in recipe[\"ingredients\"]:\n",
    "            item_name = ingredient[\"item\"]\n",
    "            ic(item_name)\n",
    "            if item_name in list(resources.keys()):\n",
    "                continue\n",
    "            return find_cycle(item_name, visisted_recipes)\n",
    "        break\n",
    "\n",
    "\n",
    "find_cycle(\"water\")"
   ]
  },
  {
   "cell_type": "code",
   "execution_count": 67,
   "metadata": {},
   "outputs": [
    {
     "data": {
      "text/plain": [
       "('recipe-alternate-silica-distilled', 0.2944726151998446)"
      ]
     },
     "execution_count": 67,
     "metadata": {},
     "output_type": "execute_result"
    }
   ],
   "source": [
    "def get_cost(item: str, visited=[]) -> float:\n",
    "    selected_recipes = find_recipes_with_product(item)\n",
    "\n",
    "    cost_of_recipes = []\n",
    "    for slug, recipe in selected_recipes.items():\n",
    "        if slug in visited:\n",
    "            return None, -1\n",
    "\n",
    "        visited.append(slug)\n",
    "\n",
    "        recipe_cost = 0\n",
    "        for ingredient in recipe[\"ingredients\"]:\n",
    "            item_name = ingredient[\"item\"]\n",
    "\n",
    "            if item_name in list(resources.keys()):\n",
    "                cost = ingredient[\"amount_per_minute\"] * resources[item_name][\"rarity\"]\n",
    "                recipe_cost += cost\n",
    "            else:\n",
    "                _, child_cost = get_cost(item_name, visited)\n",
    "                recipe_cost += child_cost\n",
    "\n",
    "        output_per_minute = [p for p in recipe[\"products\"] if p[\"item\"] == item][0][\n",
    "            \"amount_per_minute\"\n",
    "        ]\n",
    "        cost_of_recipes.append((slug, recipe_cost / output_per_minute))\n",
    "\n",
    "    cost_of_recipes = [(slug, cost) for slug, cost in cost_of_recipes if cost >= 0]\n",
    "    cost_of_recipes.sort(key=lambda r: r[1])\n",
    "\n",
    "    if cost_of_recipes:\n",
    "        return cost_of_recipes[0]\n",
    "    return [], -1\n",
    "\n",
    "\n",
    "get_cost(\"silica\")"
   ]
  },
  {
   "cell_type": "code",
   "execution_count": null,
   "metadata": {},
   "outputs": [],
   "source": []
  }
 ],
 "metadata": {
  "kernelspec": {
   "display_name": "venv",
   "language": "python",
   "name": "python3"
  },
  "language_info": {
   "codemirror_mode": {
    "name": "ipython",
    "version": 3
   },
   "file_extension": ".py",
   "mimetype": "text/x-python",
   "name": "python",
   "nbconvert_exporter": "python",
   "pygments_lexer": "ipython3",
   "version": "3.13.2"
  }
 },
 "nbformat": 4,
 "nbformat_minor": 2
}
